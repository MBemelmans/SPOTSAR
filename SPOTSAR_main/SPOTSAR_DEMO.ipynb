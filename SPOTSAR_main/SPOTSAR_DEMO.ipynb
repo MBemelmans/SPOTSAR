{
 "cells": [
  {
   "attachments": {},
   "cell_type": "markdown",
   "metadata": {},
   "source": [
    "# SPOTSAR DEMO\n",
    "## demonstration of SPOTSAR pipeline using CSK spotlight dsc. 2020-09-27 – 2020-11-13 data over Merapi volcano Indonesia.\n",
    "\n",
    "### 0.0 outline:\n",
    "- 0.1 Loading dependencies\n",
    "- 0.2 Loading SPOTSAR\n",
    "- 1.0 Explain SPOT\n",
    "- 1.1 Defining testing data\n",
    "- 1.2 Loading parameters from parameter text file\n",
    "- 2.0 Adding testing data to multi-kernel data stack\n",
    "- 2.1 Show workings of Object Oriented Programming (OOP)\n",
    "- 2.2 Plot 'raw' offset data\n",
    "- 3.0 Calculate local variablity of query points\n",
    "- 3.1 Load NDVI map seperately\n",
    "- 3.2 Show correlation of local variablity with NDVI (vegetation is bad (for X-band))\n",
    "- 4.0 Explain outlier characteristics with examples\n",
    "- 4.1 Explain HDBSCAN (and link to resources)\n",
    "- 4.2 Explain selection on min_cluster_size\n",
    "- 4.3 Show results from HDBSCAN\n",
    "- 5.0 Explain multi-kernel averaging (MKA)\n",
    "- 5.1 Show window size comparison\n",
    "- 5.2 Show zoomed in regions of interest\n",
    "- 5.3 Show MKA results\n",
    "- 6.0 compare single window sizes before HDBSCAN and MKA to MKA results\n",
    "- 6.1 Calculate local variability for query points\n"
   ]
  },
  {
   "attachments": {},
   "cell_type": "markdown",
   "metadata": {},
   "source": [
    "#### 0.1 Loading dependencies\n",
    "***\n",
    "Python benefits from an extensive code package library which have code \n",
    "that can significantly aid development time and processing efficiency.\n",
    "\n",
    "These packages need to be installed to be used and can be loaded in using 'import'.\n",
    "\n",
    "I strongly reccomend you make an environment for using this code package such that compatibility with the packages can be ensured.\n",
    "\n",
    "To make an environment please use Anaconda/miniconda and type:\n",
    "\n",
    "> `conda env create --file SPOTSAR_env.yml`\n",
    "\n",
    "This will create an environment with the name SPOTSAR that uses python3.8 (version of python in which the SPOTSAR code was developed) This environment will have all the necessary packages with the right version installed.\n",
    "The command will take some time (several minutes) to compile the right versions of all the packages but it should work and is tested on Mac and Linux. \n",
    "\n",
    "\n",
    "Then to activate the environment type:\n",
    "\n",
    "> `conda activate SPOTSAR`\n",
    "\n",
    "Once the environement is activated You can test that it worked by running test_env.py\n",
    "\n",
    "> `python3 -m test_env`\n",
    "\n",
    "\n"
   ]
  },
  {
   "cell_type": "code",
   "execution_count": null,
   "metadata": {
    "vscode": {
     "languageId": "plaintext"
    }
   },
   "outputs": [],
   "source": [
    "To load the dependencies for this notebook we can run the same python script test_env.py\n",
    "\n",
    "%run -i 'test_env.py'\n",
    "\n"
   ]
  }
 ],
 "metadata": {
  "language_info": {
   "name": "python"
  },
  "orig_nbformat": 4
 },
 "nbformat": 4,
 "nbformat_minor": 2
}
