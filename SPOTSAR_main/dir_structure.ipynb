{
 "cells": [
  {
   "attachments": {},
   "cell_type": "markdown",
   "metadata": {},
   "source": [
    "# Sub-Pixel Offset Tracking with SAR SPOTSAR or SPOTS or POT\n",
    "\n",
    "## Author: Mark Bemelmans\n",
    "### Created: May 2023\n",
    "\n",
    "Python package for post-processing, time series processing and visualisation of sub-pixel offset tracking  with SAR.\n",
    "sub-pixel offset tracking is preformed in __[GAMMA](https://gamma-rs.ch)__.\n",
    "\n",
    "#### package modules:\n",
    " - ./__main__\n",
    "     - --init--.py\n",
    "     - requirements.toml\n",
    "     - environment.yml\n",
    "     - ./ __GAMMA_processing__\n",
    "        - PO_SBAS_prep.sh (and similar) _bash scripts_\n",
    "     - ./__Post_processing__\n",
    "        - --init--.py\n",
    "        - get_off_files.py _function_\n",
    "        - reorder_files.py _function_\n",
    "        - read_lat_lon.py _function_\n",
    "        - single_kernel.py _class_\n",
    "            - stores attributes: filename, lat, lon, R_off, A_off, Ccp, Ccs, heading, r_win, a_win, r_step, a_step, r_start, a_start, r_stop, a_stop, date1, date2\n",
    "            - can calculate: SNR, nan_mask, X_off, Y_off, phase, magnitude\n",
    "            - class methods: \n",
    "                - get_vec_data: converts 2d array to 1d vector and stores in attribute [2d_array]_vec\n",
    "                - prep_HDBSCAN: prepares multi-parameter space for clustering with HDBSCAN\n",
    "                - calc_PCA: performs PCA to repoject data and possibly recude dimensions\n",
    "                - calc_HDBSCAN: performs HDBSCAN and outputs labels and outlier scores\n",
    "        - multi_kernel.py _class_\n",
    "            - stores attributes: heading, inc. angle, list of single_kernel objects (ordered by window size)\n",
    "            - class methods:\n",
    "                - crop_stack: crops stack to common (not-nan) area\n",
    "                - add_single_kernel: appends single_kernel object to list of single_kernels\n",
    "                - get_single_kernel: returns single_kernel object from list of single_kernels\n",
    "                - del_single_kernel: removes single_kernel object from list of single_kernels\n",
    "                - multi_kernel_avg: performs multi-kernel-average and returns self.R_off_MKA, self.A_off_MKA\n",
    "                - make_MKA_obj: returns MKA_obj containing meta data and self.R_off_MKA, self.A_off_MKA\n",
    "     - ./__TS_processing__\n",
    "         - --init--.py\n",
    "         - write_hdf5_seq.py  _function_\n",
    "         - read_hdf5_seq.py  _function_\n",
    "         - LeastSquare_TS.py  _function_\n",
    "         - TS_stack  _class_\n",
    "            - stores: list of MKA objects\n",
    "            - \n",
    "     - ./__plot__\n",
    "         - --init--.py\n",
    "         - plot_hist.py  _function_\n",
    "         - cross_plot.py  _function_\n",
    "         - pair_plot.py  _function_\n",
    "         - plot_HDBSCAN_outliers.py  _function_\n",
    "         - plot_ra_offset.py  _function_\n",
    "         - TS_plot.py  _function_\n",
    "         - swath_profiler.py  _function_\n",
    "         - TS_mat_plot.py _function_\n",
    "         - plot_ra_vel.py _function_\n",
    "         - plot_phase.py _function_\n",
    "\n",
    "\n"
   ]
  },
  {
   "attachments": {},
   "cell_type": "markdown",
   "metadata": {},
   "source": [
    "useful links:\n",
    "https://stackoverflow.com/questions/25655588/incremental-writes-to-hdf5-with-h5py?rq=1\n",
    "\n"
   ]
  }
 ],
 "metadata": {
  "kernelspec": {
   "display_name": "Python 3",
   "language": "python",
   "name": "python3"
  },
  "language_info": {
   "codemirror_mode": {
    "name": "ipython",
    "version": 3
   },
   "file_extension": ".py",
   "mimetype": "text/x-python",
   "name": "python",
   "nbconvert_exporter": "python",
   "pygments_lexer": "ipython3",
   "version": "3.11.0"
  },
  "orig_nbformat": 4
 },
 "nbformat": 4,
 "nbformat_minor": 2
}
