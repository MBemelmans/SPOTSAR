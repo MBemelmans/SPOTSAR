{
 "cells": [
  {
   "cell_type": "code",
   "execution_count": null,
   "metadata": {},
   "outputs": [],
   "source": [
    "# load dependencies\n",
    "import numpy as np\n",
    "import matplotlib.pyplot as plt\n"
   ]
  },
  {
   "cell_type": "code",
   "execution_count": null,
   "metadata": {},
   "outputs": [],
   "source": [
    "Lon_file = '/Users/markbemelmans/Documents/PhD/projects/Merapi2021/TSX/staring_134/offset_text_files/x20201116_x20201127/20201116.lon'\n",
    "Lat_file = '/Users/markbemelmans/Documents/PhD/projects/Merapi2021/TSX/staring_134/offset_text_files/x20201116_x20201127/20201116.lat'\n",
    "width = 7932"
   ]
  },
  {
   "cell_type": "code",
   "execution_count": null,
   "metadata": {},
   "outputs": [],
   "source": [
    "# get latitude and longitude data from file\n",
    "lon_vec = np.fromfile(Lon_file, dtype='>f', count=-1)\n",
    "lat_vec = np.fromfile(Lat_file, dtype='>f', count=-1)\n",
    "# set 0,0 coordinates to nan\n",
    "lon_vec[lon_vec == 0] = np.nan\n",
    "lat_vec[lat_vec == 0] = np.nan\n",
    "# get number of lines in lat lon files\n",
    "lines_ll = lon_vec.shape[0]/width\n",
    "# reshape tomatrix for index referencing\n",
    "LON = np.reshape(lon_vec,[int(lines_ll),width])\n",
    "LAT = np.reshape(lat_vec,[int(lines_ll),width])\n"
   ]
  },
  {
   "cell_type": "code",
   "execution_count": null,
   "metadata": {},
   "outputs": [],
   "source": [
    "print(LON[0:20,0:20])"
   ]
  },
  {
   "cell_type": "code",
   "execution_count": 10,
   "metadata": {},
   "outputs": [],
   "source": [
    "fracture_coord1 = np.array([[1759, 7151],\n",
    "                   [1775, 7061],\n",
    "                   [1796, 7042],\n",
    "                   [1809, 6977]])\n",
    "\n",
    "fracture_coord2 = np.array([[1800, 6870],\n",
    "                   [1789, 6823],\n",
    "                   [1792, 6803],\n",
    "                   [1783, 6783],\n",
    "                   [1774, 6732],\n",
    "                   [1777, 6716],\n",
    "                   [1762, 6696],\n",
    "                   [1764, 6646],\n",
    "                   [1751, 6577]])\n",
    "\n",
    "fracture_coord3 = np.array([[1718, 6355],\n",
    "                   [1711, 6284]])\n",
    "\n",
    "fracture_coord4 = np.array([[1770, 5986],\n",
    "                   [1778, 5984],\n",
    "                   [1779, 5906],\n",
    "                   [1778, 5874],\n",
    "                   [1774, 5838]])"
   ]
  },
  {
   "cell_type": "code",
   "execution_count": 13,
   "metadata": {},
   "outputs": [
    {
     "name": "stdout",
     "output_type": "stream",
     "text": [
      "0\n",
      "[[1759 7151]\n",
      " [1775 7061]\n",
      " [1796 7042]\n",
      " [1809 6977]]\n",
      "point: [1759 7151]\n",
      "nan nan\n",
      "point: [1775 7061]\n",
      "nan nan\n",
      "point: [1796 7042]\n",
      "nan nan\n",
      "point: [1809 6977]\n",
      "110.426056 -7.530181\n",
      "1\n",
      "[[1800 6870]\n",
      " [1789 6823]\n",
      " [1792 6803]\n",
      " [1783 6783]\n",
      " [1774 6732]\n",
      " [1777 6716]\n",
      " [1762 6696]\n",
      " [1764 6646]\n",
      " [1751 6577]]\n",
      "point: [1800 6870]\n",
      "110.42654 -7.530267\n",
      "point: [1789 6823]\n",
      "110.4268 -7.5303044\n",
      "point: [1792 6803]\n",
      "nan nan\n",
      "point: [1783 6783]\n",
      "110.42703 -7.5303435\n",
      "point: [1774 6732]\n",
      "110.427216 -7.5303636\n",
      "point: [1777 6716]\n",
      "nan nan\n",
      "point: [1762 6696]\n",
      "nan nan\n",
      "point: [1764 6646]\n",
      "nan nan\n",
      "point: [1751 6577]\n",
      "110.427704 -7.5304284\n",
      "2\n",
      "[[1718 6355]\n",
      " [1711 6284]]\n",
      "point: [1718 6355]\n",
      "110.42874 -7.53059\n",
      "point: [1711 6284]\n",
      "110.429016 -7.5306334\n",
      "3\n",
      "[[1770 5986]\n",
      " [1778 5984]\n",
      " [1779 5906]\n",
      " [1778 5874]\n",
      " [1774 5838]]\n",
      "point: [1770 5986]\n",
      "nan nan\n",
      "point: [1778 5984]\n",
      "110.43033 -7.531006\n",
      "point: [1779 5906]\n",
      "nan nan\n",
      "point: [1778 5874]\n",
      "110.4308 -7.531104\n",
      "point: [1774 5838]\n",
      "110.43099 -7.5311384\n"
     ]
    }
   ],
   "source": [
    "for i, coords in enumerate([fracture_coord1,fracture_coord2,fracture_coord3,fracture_coord4]):\n",
    "    print(i)\n",
    "    print(coords)\n",
    "    for point in coords:\n",
    "        print('point:',point)\n",
    "        print(LON[point[0],point[1]],LAT[point[0],point[1]])"
   ]
  }
 ],
 "metadata": {
  "kernelspec": {
   "display_name": "Python 3",
   "language": "python",
   "name": "python3"
  },
  "language_info": {
   "codemirror_mode": {
    "name": "ipython",
    "version": 3
   },
   "file_extension": ".py",
   "mimetype": "text/x-python",
   "name": "python",
   "nbconvert_exporter": "python",
   "pygments_lexer": "ipython3",
   "version": "3.8.16"
  }
 },
 "nbformat": 4,
 "nbformat_minor": 2
}
