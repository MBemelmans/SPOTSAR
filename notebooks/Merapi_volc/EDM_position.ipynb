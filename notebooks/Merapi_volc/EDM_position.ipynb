{
 "cells": [
  {
   "cell_type": "code",
   "execution_count": 1,
   "metadata": {},
   "outputs": [],
   "source": [
    "## first time series test\n",
    "# append ../../ to make link to main repo work\n",
    "import sys\n",
    "sys.path.append('../../')\n",
    "sys.path.append('/Applications/anaconda3/envs/PhD_clean/lib/python3.11/site-packages/')\n",
    "\n",
    "\n",
    "# import external packages\n",
    "import numpy as np\n",
    "import pandas as pd\n",
    "import numba\n",
    "from numba import vectorize\n",
    "import glob # for file search\n",
    "import copy\n",
    "import os # operating system stuff\n",
    "import re # regex\n",
    "\n",
    "\n",
    "import geopandas as gpd\n",
    "import rasterio as rio\n",
    "import rasterio.mask\n",
    "from rasterio.plot import plotting_extent\n",
    "from shapely.geometry import Polygon\n",
    "from shapely.geometry.point import Point\n",
    "import pyproj\n",
    "from pyproj import CRS\n",
    "from inpoly import inpoly2 # for fast inpolygon checks\n",
    "import utm\n",
    "\n",
    "import matplotlib.pyplot as plt \n",
    "import matplotlib.dates as mdates\n",
    "from matplotlib import cm as mpl_cm\n",
    "from matplotlib import colors as mcolors \n",
    "import matplotlib.image as mplimg\n",
    "\n",
    "from mpl_toolkits.axes_grid1 import make_axes_locatable # for colorbar scaling\n",
    "from mpl_toolkits.axes_grid1 import ImageGrid\n",
    "from matplotlib_scalebar.scalebar import ScaleBar\n",
    "from matplotlib.gridspec import GridSpec\n",
    "from matplotlib.ticker import FormatStrFormatter\n",
    "\n",
    "import seaborn as sns\n",
    "from matplotlib import rc_file_defaults\n",
    "rc_file_defaults()\n",
    "# sns.set(style=None, color_codes=True)\n",
    "\n",
    "from shapely.geometry import Polygon\n",
    "from shapely.geometry.point import Point\n",
    "import datetime\n",
    "\n",
    "import configparser\n",
    "\n",
    "from cmcrameri import cm # for scientific colourmaps\n",
    "\n",
    "###########################\n",
    "# import main local package\n",
    "import SPOTSAR_main as sm\n"
   ]
  },
  {
   "cell_type": "code",
   "execution_count": 2,
   "metadata": {},
   "outputs": [],
   "source": [
    "## estimate true EDM reflector position\n",
    "\n",
    "# steps:\n",
    "\n",
    "# 1: Load DEM data\n",
    "# 2: load EDM data\n",
    "# 3: determine distance of DEM to pos badaban\n",
    "# 4: find minimum dist_DEM-EDM \n",
    "# 5: Plot results"
   ]
  },
  {
   "cell_type": "code",
   "execution_count": 2,
   "metadata": {},
   "outputs": [],
   "source": [
    "# load EDM positions\n",
    "\n",
    "### get EDM positions\n",
    "pos_bad = np.array([110.410626, -7.526175, 1276])\n",
    "reflectors = np.array(\n",
    "    [[110.439757, -7.537567, 2407], [110.440165, -7.537451, 2425], [110.439260, -7.537533, 2360]]\n",
    ")\n",
    "\n"
   ]
  },
  {
   "cell_type": "code",
   "execution_count": 3,
   "metadata": {},
   "outputs": [
    {
     "name": "stdout",
     "output_type": "stream",
     "text": [
      "Band1 has shape (2028, 1672)\n"
     ]
    }
   ],
   "source": [
    "from SPOTSAR_main.misc_func.read_line_shp import read_line_shp\n",
    "# DEM\n",
    "Merapi_DEM_file = \"/Users/tz20896/Documents/PhD/projects/Merapi2021/geo/TDX_Merapi_WGS84_5m.tif\"\n",
    "with rio.open(Merapi_DEM_file) as img:\n",
    "    DEM = img.read(1,masked=True) # rasterio bands are indexed from 1\n",
    "    # extract DEM extent\n",
    "    DEM_extent=[img.bounds.left,img.bounds.right,img.bounds.bottom,img.bounds.top]\n",
    "    print('Band1 has shape', DEM.shape)\n",
    "    height = DEM.shape[0]\n",
    "    width  = DEM.shape[1]\n",
    "    cols, rows = np.meshgrid(np.arange(width), np.arange(height))\n",
    "    xs, ys = rio.transform.xy(img.transform, rows, cols)\n",
    "    lons_DEM = np.array(xs)\n",
    "    lats_DEM = np.array(ys)\n",
    "\n",
    "\n",
    "# DEM\n",
    "Merapi_HS_file = \"/Users/tz20896/Documents/PhD/projects/Merapi2021/geo/TDX_Merapi_WGS84_HS.tif\"\n",
    "with rio.open(Merapi_HS_file) as img:\n",
    "    SHADING = img.read(1,masked=True) # rasterio bands are indexed from 1\n",
    "\n",
    "\n",
    "# def read_line_shp(filename):\n",
    "#     \"\"\" reads a .shp file containing lines (i.e. coordinates stored in [geometry].coords)\n",
    "#         Args:\n",
    "#         finename (str): .shp filename\n",
    "\n",
    "#         Returns:\n",
    "#         coords (list | list of lists): coordinates of points defining the line\n",
    "#     \"\"\"\n",
    "#     line_shp = gpd.read_file(filename)\n",
    "#     coords_list = []\n",
    "#     for i, line in enumerate(line_shp[\"geometry\"]):\n",
    "#         coords = np.array(list(line.coords))\n",
    "#         coords_list.append(coords)\n",
    "    \n",
    "#     if np.size(coords_list)==1:\n",
    "#         return coords\n",
    "#     else:\n",
    "#         return coords_list\n",
    "\n",
    "\n",
    "            \n",
    "\n",
    "\n",
    "# lava flow files:\n",
    "L1888_FILE  = '/Users/tz20896/Documents/PhD/projects/Merapi2021/merapi_maps/L1888_v2.shp'\n",
    "L1948_FILE  = '/Users/tz20896/Documents/PhD/projects/Merapi2021/merapi_maps/L1948.shp'\n",
    "L1956_FILE  = '/Users/tz20896/Documents/PhD/projects/Merapi2021/merapi_maps/L1956.shp'\n",
    "L1992_FILE  = '/Users/tz20896/Documents/PhD/projects/Merapi2021/merapi_maps/L1992.shp'\n",
    "L1997_FILE  = '/Users/tz20896/Documents/PhD/projects/Merapi2021/merapi_maps/L1997.shp'\n",
    "L1998_FILE  = '/Users/tz20896/Documents/PhD/projects/Merapi2021/merapi_maps/L1998.shp'\n",
    "CRATER_FILE = '/Users/tz20896/Documents/PhD/projects/Merapi2021/merapi_maps/Merapi_crater.shp'\n",
    "\n",
    "# # Read the shapefile\n",
    "# L1888  = gpd.read_file(L1888_FILE)\n",
    "# L1948  = gpd.read_file(L1948_FILE)\n",
    "# L1956  = gpd.read_file(L1956_FILE)\n",
    "# L1992  = gpd.read_file(L1992_FILE)\n",
    "# L1997  = gpd.read_file(L1997_FILE)\n",
    "# L1998  = gpd.read_file(L1998_FILE)\n",
    "# CRATER = gpd.read_file(CRATER_FILE)\n",
    "\n",
    "# # Extract latitude and longitude into separate columns\n",
    "# coords_L1888   = np.array(list(L1888 [\"geometry\"][0].coords))\n",
    "# coords_L1956_1 = np.array(list(L1956 [\"geometry\"][0].coords))\n",
    "# coords_L1956_2 = np.array(list(L1956 [\"geometry\"][1].coords))\n",
    "# coords_L1948   = np.array(list(L1948 [\"geometry\"][0].coords))\n",
    "# coords_L1992   = np.array(list(L1992 [\"geometry\"][0].coords))\n",
    "# coords_L1997   = np.array(list(L1997 [\"geometry\"][0].coords))\n",
    "# coords_L1998   = np.array(list(L1998 [\"geometry\"][0].coords))\n",
    "# coords_CRATER  = np.array(list(CRATER[\"geometry\"][0].coords))\n",
    "\n",
    "# Extract latitude and longitude into separate columns\n",
    "coords_L1956   = read_line_shp(L1956_FILE )\n",
    "coords_L1888   = read_line_shp(L1888_FILE )\n",
    "coords_L1948   = read_line_shp(L1948_FILE )\n",
    "coords_L1992   = read_line_shp(L1992_FILE )\n",
    "coords_L1997   = read_line_shp(L1997_FILE )\n",
    "coords_L1998   = read_line_shp(L1998_FILE )\n",
    "coords_CRATER  = read_line_shp(CRATER_FILE)\n",
    "\n",
    "# separate multi-line\n",
    "coords_L1956_1 = coords_L1956[0]\n",
    "coords_L1956_2 = coords_L1956[1]"
   ]
  },
  {
   "cell_type": "code",
   "execution_count": 4,
   "metadata": {},
   "outputs": [
    {
     "name": "stderr",
     "output_type": "stream",
     "text": [
      "/var/folders/7b/9xvft5dd0455jpkm_r7rgr3w0000gp/T/ipykernel_79087/3603739501.py:6: RuntimeWarning: invalid value encountered in sqrt\n",
      "  DEM_dist = np.sqrt(DEM_local_x**2+DEM_local_y**2+DEM_local_z**2)\n"
     ]
    }
   ],
   "source": [
    "import pymap3d as pm\n",
    "\n",
    "# DEM_local_x, DEM_local_y, DEM_local_z = pm.geodetic2enu(lats_DEM.ravel(), lons_DEM.ravel(), DEM.ravel(), pos_bad[1], pos_bad[0], pos_bad[2])\n",
    "DEM_local_x, DEM_local_y, DEM_local_z = pm.geodetic2enu(lats_DEM, lons_DEM, DEM, pos_bad[1], pos_bad[0], pos_bad[2])\n",
    "\n",
    "DEM_dist = np.sqrt(DEM_local_x**2+DEM_local_y**2+DEM_local_z**2)"
   ]
  },
  {
   "cell_type": "code",
   "execution_count": 5,
   "metadata": {},
   "outputs": [
    {
     "data": {
      "text/plain": [
       "<matplotlib.legend.Legend at 0x7fc98b9fcfd0>"
      ]
     },
     "execution_count": 5,
     "metadata": {},
     "output_type": "execute_result"
    }
   ],
   "source": [
    "%matplotlib osx\n",
    "\n",
    "lon_lims = [110.432, 110.45]\n",
    "lat_lims = [-7.547, -7.535]\n",
    "EDM_start = [4044.837, 3859.1115]\n",
    "vmax = 10\n",
    "fig, ax = plt.subplots(1,2,figsize=(8,8))\n",
    "dist_data = ax[0].imshow(DEM_dist-EDM_start[0],extent=DEM_extent,cmap=cm.vik, vmin=-vmax, vmax=vmax)\n",
    "ax[0].imshow(SHADING,extent=DEM_extent,alpha=0.3,cmap='Greys_r')\n",
    "ax[0].scatter(x=reflectors[:,0],y=reflectors[:,1],s=10,marker='v',color='tab:orange', label='EDM reflectors')\n",
    "ax[0].scatter(x=reflectors[0,0],y=reflectors[0,1],s=10,marker='v',color='tab:red', label='RB1')\n",
    "ax[0].set_xlim(lon_lims)\n",
    "ax[0].set_ylim(lat_lims)\n",
    "cax = sm.plot.add_axis_cbar.add_bottom_cax(ax[0], 0.2, 0.02)\n",
    "plt.colorbar(dist_data,cax=cax, label='distance to RB1 - 4044.837 m', orientation = 'horizontal', location='bottom',extend='both')\n",
    "ax[0].legend()\n",
    "\n",
    "dist_data = ax[1].imshow(DEM_dist-EDM_start[1],extent=DEM_extent,cmap=cm.vik,vmin=-vmax, vmax=vmax)\n",
    "ax[1].imshow(SHADING,extent=DEM_extent,alpha=0.3,cmap='Greys_r')\n",
    "ax[1].scatter(x=reflectors[:,0],y=reflectors[:,1],s=10,marker='v',color='tab:orange', label='EDM reflectors')\n",
    "ax[1].scatter(x=reflectors[1,0],y=reflectors[1,1],s=10,marker='v',color='tab:red', label='RB2')\n",
    "ax[1].set_xlim(lon_lims)\n",
    "ax[1].set_ylim(lat_lims)\n",
    "cax = sm.plot.add_axis_cbar.add_bottom_cax(ax[1], 0.2, 0.02)\n",
    "plt.colorbar(dist_data,cax=cax,label='distance to RB2 - 3859.1115 m', orientation = 'horizontal', location='bottom',extend='both')\n",
    "ax[1].legend()"
   ]
  },
  {
   "cell_type": "code",
   "execution_count": 7,
   "metadata": {},
   "outputs": [
    {
     "data": {
      "text/plain": [
       "<matplotlib.image.AxesImage at 0x7fc956085ca0>"
      ]
     },
     "execution_count": 7,
     "metadata": {},
     "output_type": "execute_result"
    }
   ],
   "source": [
    "fig, ax = plt.subplots(1,1)\n",
    "\n",
    "ax.imshow(DEM,extent=DEM_extent)"
   ]
  }
 ],
 "metadata": {
  "kernelspec": {
   "display_name": "Python 3",
   "language": "python",
   "name": "python3"
  },
  "language_info": {
   "codemirror_mode": {
    "name": "ipython",
    "version": 3
   },
   "file_extension": ".py",
   "mimetype": "text/x-python",
   "name": "python",
   "nbconvert_exporter": "python",
   "pygments_lexer": "ipython3",
   "version": "3.8.18"
  }
 },
 "nbformat": 4,
 "nbformat_minor": 2
}
