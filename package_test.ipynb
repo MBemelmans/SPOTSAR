{
 "cells": [
  {
   "attachments": {},
   "cell_type": "markdown",
   "metadata": {},
   "source": [
    "# test to load local package\n",
    "\n",
    "## try on dataset c20200927 c20201113 in folder SPOTSAR/test_data\n"
   ]
  },
  {
   "cell_type": "code",
   "execution_count": 4,
   "metadata": {},
   "outputs": [
    {
     "ename": "TypeError",
     "evalue": "reorder_files() missing 2 required positional arguments: 'dir' and 'pattern'",
     "output_type": "error",
     "traceback": [
      "\u001b[0;31m---------------------------------------------------------------------------\u001b[0m",
      "\u001b[0;31mTypeError\u001b[0m                                 Traceback (most recent call last)",
      "Cell \u001b[0;32mIn[4], line 8\u001b[0m\n\u001b[1;32m      1\u001b[0m \u001b[39m# from SPOTS_main import Post_processing\u001b[39;00m\n\u001b[1;32m      2\u001b[0m \u001b[39m# from SPOTS_main import plot\u001b[39;00m\n\u001b[1;32m      3\u001b[0m \u001b[39m# from SPOTS_main import TS_processing\u001b[39;00m\n\u001b[1;32m      6\u001b[0m \u001b[39mimport\u001b[39;00m \u001b[39mSPOTSAR_main\u001b[39;00m \u001b[39mas\u001b[39;00m \u001b[39msm\u001b[39;00m\n\u001b[0;32m----> 8\u001b[0m sm\u001b[39m.\u001b[39;49mPost_processing\u001b[39m.\u001b[39;49mreorder_files()\n\u001b[1;32m      9\u001b[0m \u001b[39mprint\u001b[39m(\u001b[39mdir\u001b[39m(sm\u001b[39m.\u001b[39mplot))\n\u001b[1;32m     10\u001b[0m \u001b[39mprint\u001b[39m(\u001b[39mdir\u001b[39m(sm\u001b[39m.\u001b[39mTS_processing))\n",
      "\u001b[0;31mTypeError\u001b[0m: reorder_files() missing 2 required positional arguments: 'dir' and 'pattern'"
     ]
    }
   ],
   "source": [
    "import SPOTSAR_main as sm\n"
   ]
  },
  {
   "cell_type": "code",
   "execution_count": null,
   "metadata": {},
   "outputs": [],
   "source": [
    "################ Define user INPUTS #######################\n",
    "######## please edit the values of this block only ########\n",
    "###########################################################\n",
    "\n",
    "# define hillshade file\n",
    "HS_file = './test_data/DEM/TDX_Merapi_WGS84_HS.tif'\n",
    "\n",
    "# define map region of interest\n",
    "lon_lims = [110.425, 110.45]\n",
    "lat_lims = [-7.555, -7.535]\n",
    "\n",
    "# define colour range {min max} (min = -max)\n",
    "vmax = 3 # range of colourscale in meters\n",
    "\n",
    "# define file names for data, lon and lat\n",
    "directory_path = \"./test_data/CSK_dsc/OFFS/\"\n",
    "# define path to ccp and ccs files\n",
    "directory_path_ccs = \"./test_data/CSK_dsc/CCS/\"\n",
    "\n",
    "# Set the regular expression pattern to match the file names\n",
    "pattern = r\"^c[0-9]+_c[0-9]+_disp_[0-9]+_[0-9]+\\.txt$\"\n",
    "# Set the regular expression pattern to match the ccs file names\n",
    "pattern_ccs = r\"^c[0-9]+_c[0-9]+_ccs_[0-9]+_[0-9]+$\"\n",
    "\n"
   ]
  },
  {
   "cell_type": "code",
   "execution_count": null,
   "metadata": {},
   "outputs": [],
   "source": [
    "# open hillshade file and re-order offset and CCS files\n",
    "\n",
    "# open hill shade file with rasterio\n",
    "DEM_HS = rio.open(HS_file)\n",
    "shading = DEM_HS.read(1,masked=True) # rasterio bands are indexed from 1\n",
    "\n",
    "# extract DEM extent\n",
    "DEM_extent=[DEM_HS.bounds.left,DEM_HS.bounds.right,DEM_HS.bounds.bottom,DEM_HS.bounds.top]\n"
   ]
  }
 ],
 "metadata": {
  "kernelspec": {
   "display_name": "base",
   "language": "python",
   "name": "python3"
  },
  "language_info": {
   "codemirror_mode": {
    "name": "ipython",
    "version": 3
   },
   "file_extension": ".py",
   "mimetype": "text/x-python",
   "name": "python",
   "nbconvert_exporter": "python",
   "pygments_lexer": "ipython3",
   "version": "3.8.16"
  },
  "orig_nbformat": 4
 },
 "nbformat": 4,
 "nbformat_minor": 2
}
