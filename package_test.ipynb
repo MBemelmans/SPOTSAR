{
 "cells": [
  {
   "attachments": {},
   "cell_type": "markdown",
   "metadata": {},
   "source": [
    "# test to load local package\n",
    "\n",
    "### __test 1__\n",
    " - --init--.py are empty\n",
    "     - only works with parent.shild.grandchild etc\n",
    "\n",
    "### __test 2__\n",
    " - --init--.py contain from module import class\n",
    "     - works with from module import class"
   ]
  },
  {
   "cell_type": "code",
   "execution_count": 4,
   "metadata": {},
   "outputs": [
    {
     "ename": "TypeError",
     "evalue": "reorder_files() missing 2 required positional arguments: 'dir' and 'pattern'",
     "output_type": "error",
     "traceback": [
      "\u001b[0;31m---------------------------------------------------------------------------\u001b[0m",
      "\u001b[0;31mTypeError\u001b[0m                                 Traceback (most recent call last)",
      "Cell \u001b[0;32mIn[4], line 8\u001b[0m\n\u001b[1;32m      1\u001b[0m \u001b[39m# from SPOTS_main import Post_processing\u001b[39;00m\n\u001b[1;32m      2\u001b[0m \u001b[39m# from SPOTS_main import plot\u001b[39;00m\n\u001b[1;32m      3\u001b[0m \u001b[39m# from SPOTS_main import TS_processing\u001b[39;00m\n\u001b[1;32m      6\u001b[0m \u001b[39mimport\u001b[39;00m \u001b[39mSPOTSAR_main\u001b[39;00m \u001b[39mas\u001b[39;00m \u001b[39msm\u001b[39;00m\n\u001b[0;32m----> 8\u001b[0m sm\u001b[39m.\u001b[39;49mPost_processing\u001b[39m.\u001b[39;49mreorder_files()\n\u001b[1;32m      9\u001b[0m \u001b[39mprint\u001b[39m(\u001b[39mdir\u001b[39m(sm\u001b[39m.\u001b[39mplot))\n\u001b[1;32m     10\u001b[0m \u001b[39mprint\u001b[39m(\u001b[39mdir\u001b[39m(sm\u001b[39m.\u001b[39mTS_processing))\n",
      "\u001b[0;31mTypeError\u001b[0m: reorder_files() missing 2 required positional arguments: 'dir' and 'pattern'"
     ]
    }
   ],
   "source": [
    "# from SPOTS_main import Post_processing\n",
    "# from SPOTS_main import plot\n",
    "# from SPOTS_main import TS_processing\n",
    "\n",
    "\n",
    "import SPOTSAR_main as sm\n",
    "\n",
    "sm.Post_processing.reorder_files()\n",
    "print(dir(sm.plot))\n",
    "print(dir(sm.TS_processing))\n"
   ]
  }
 ],
 "metadata": {
  "kernelspec": {
   "display_name": "base",
   "language": "python",
   "name": "python3"
  },
  "language_info": {
   "codemirror_mode": {
    "name": "ipython",
    "version": 3
   },
   "file_extension": ".py",
   "mimetype": "text/x-python",
   "name": "python",
   "nbconvert_exporter": "python",
   "pygments_lexer": "ipython3",
   "version": "3.8.16"
  },
  "orig_nbformat": 4
 },
 "nbformat": 4,
 "nbformat_minor": 2
}
