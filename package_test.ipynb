{
 "cells": [
  {
   "attachments": {},
   "cell_type": "markdown",
   "metadata": {},
   "source": [
    "# test to load local package\n",
    "\n",
    "## try on dataset c20200927 c20201113 in folder SPOTSAR/test_data\n"
   ]
  },
  {
   "cell_type": "code",
   "execution_count": 8,
   "metadata": {},
   "outputs": [],
   "source": [
    "# import external packages\n",
    "import rasterio as rio\n",
    "\n",
    "# import main local package\n",
    "import SPOTSAR_main as sm\n"
   ]
  },
  {
   "cell_type": "code",
   "execution_count": 9,
   "metadata": {},
   "outputs": [],
   "source": [
    "################ Define user INPUTS #######################\n",
    "######## please edit the values of this block only ########\n",
    "###########################################################\n",
    "\n",
    "# define hillshade file\n",
    "HS_file = './test_data/DEM/TDX_Merapi_WGS84_HS.tif'\n",
    "\n",
    "# define map region of interest\n",
    "lon_lims = [110.425, 110.45]\n",
    "lat_lims = [-7.555, -7.535]\n",
    "\n",
    "# define colour range {min max} (min = -max)\n",
    "vmax = 3 # range of colourscale in meters\n",
    "\n",
    "# define file names for data, lon and lat\n",
    "directory_path = \"./test_data/CSK_dsc/OFFS/\"\n",
    "# define path to ccp and ccs files\n",
    "directory_path_ccs = \"./test_data/CSK_dsc/CCS/\"\n",
    "\n",
    "# Set the regular expression pattern to match the file names\n",
    "pattern = r\"^c[0-9]+_c[0-9]+_disp_[0-9]+_[0-9]+\\.txt$\"\n",
    "# Set the regular expression pattern to match the ccs file names\n",
    "pattern_ccs = r\"^c[0-9]+_c[0-9]+_ccs_[0-9]+_[0-9]+$\"\n",
    "\n"
   ]
  },
  {
   "cell_type": "code",
   "execution_count": 10,
   "metadata": {},
   "outputs": [
    {
     "name": "stdout",
     "output_type": "stream",
     "text": [
      "['c20200927_c20201113_disp_42_20.txt', 'c20200927_c20201113_disp_74_36.txt', 'c20200927_c20201113_disp_108_52.txt', 'c20200927_c20201113_disp_140_68.txt', 'c20200927_c20201113_disp_174_84.txt', 'c20200927_c20201113_disp_206_100.txt', 'c20200927_c20201113_disp_240_116.txt', 'c20200927_c20201113_disp_272_132.txt', 'c20200927_c20201113_disp_306_148.txt', 'c20200927_c20201113_disp_340_164.txt', 'c20200927_c20201113_disp_372_180.txt']\n",
      "['c20200927_c20201113_ccs_42_20', 'c20200927_c20201113_ccs_74_36', 'c20200927_c20201113_ccs_108_52', 'c20200927_c20201113_ccs_140_68', 'c20200927_c20201113_ccs_174_84', 'c20200927_c20201113_ccs_206_100', 'c20200927_c20201113_ccs_240_116', 'c20200927_c20201113_ccs_272_132', 'c20200927_c20201113_ccs_306_148', 'c20200927_c20201113_ccs_340_164', 'c20200927_c20201113_ccs_372_180']\n"
     ]
    }
   ],
   "source": [
    "# open hillshade file and re-order offset and CCS files\n",
    "\n",
    "# open hill shade file with rasterio\n",
    "DEM_HS = rio.open(HS_file)\n",
    "shading = DEM_HS.read(1,masked=True) # rasterio bands are indexed from 1\n",
    "\n",
    "# extract DEM extent\n",
    "DEM_extent=[DEM_HS.bounds.left,DEM_HS.bounds.right,DEM_HS.bounds.bottom,DEM_HS.bounds.top]\n",
    "\n",
    "# reorder file using Post_processing.reorder_files\n",
    "matching_files = sm.Post_processing.reorder_files(directory_path,pattern,0)\n",
    "matching_files_ccs = sm.Post_processing.reorder_files(directory_path_ccs,pattern_ccs,0)\n",
    "\n",
    "# test if file ordering has worked\n",
    "print(matching_files)\n",
    "print(matching_files_ccs)"
   ]
  },
  {
   "cell_type": "code",
   "execution_count": null,
   "metadata": {},
   "outputs": [],
   "source": [
    "\n",
    "# define dimensions of lat lon files\n",
    "width = 17478\n",
    "lines = 14394\n",
    "# define dimensions of ccs files\n",
    "width_ccs = 468\n",
    "lines_ccs = 760\n",
    "\n",
    "# define starting position of cropped data in lat lon files\n",
    "r_start = 1324\n",
    "a_start = 2235\n",
    "# define step size of the pixel offset tracking to correctely \n",
    "# assign lat lon values \n",
    "r_step = 24\n",
    "a_step = 12\n",
    "\n",
    "# define heading and incidence angle\n",
    "heading = -167.9496230\n",
    "mean_inc = 35.6625\n",
    "# define Multi-kernel-averaging completeness limit\n",
    "comp_lim = 0.7\n",
    "\n",
    "\n",
    "# define file names for data, lon and lat\n",
    "directory_path = \"../CSK/dsc1/test_window_size/\"\n",
    "# define path to ccp and ccs files\n",
    "directory_path_ccp_ccs = \"../CSK/dsc1/test_window_size/CCP_CCS/\"\n",
    "\n",
    "# define lon and lat files\n",
    "lon_file = '../CSK/dsc1/test_window_size/20200910.lon'\n",
    "lat_file = '../CSK/dsc1/test_window_size/20200910.lat'\n",
    "\n",
    "datastack = DataStack(directory_path,matching_files,directory_path_ccp_ccs,matching_files_ccs,lat_file,lon_file,heading,mean_inc,lines_ccs,width_ccs)\n",
    "datastack.get_params_from_file_name()\n",
    "datastack.get_latlon_from_file(width)\n",
    "datastack.add_lat_lon_to_data(r_start,a_start)\n",
    "datastack.crop_stack_ccs(r_step,a_step)\n",
    "stacked_data = datastack.assign_data_to_stack(r_step,a_step)"
   ]
  }
 ],
 "metadata": {
  "kernelspec": {
   "display_name": "base",
   "language": "python",
   "name": "python3"
  },
  "language_info": {
   "codemirror_mode": {
    "name": "ipython",
    "version": 3
   },
   "file_extension": ".py",
   "mimetype": "text/x-python",
   "name": "python",
   "nbconvert_exporter": "python",
   "pygments_lexer": "ipython3",
   "version": "3.8.16"
  },
  "orig_nbformat": 4
 },
 "nbformat": 4,
 "nbformat_minor": 2
}
