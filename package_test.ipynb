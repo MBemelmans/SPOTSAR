{
 "cells": [
  {
   "attachments": {},
   "cell_type": "markdown",
   "metadata": {},
   "source": [
    "# test to load local package\n",
    "\n",
    "### __test 1__\n",
    " - --init--.py are empty\n",
    "     - only works with parent.shild.grandchild etc\n",
    "\n",
    "### __test 2__\n",
    " - --init--.py contain from module import class\n",
    "     - works with from module import class"
   ]
  },
  {
   "cell_type": "code",
   "execution_count": 3,
   "metadata": {},
   "outputs": [
    {
     "name": "stdout",
     "output_type": "stream",
     "text": [
      "do read_lat_lon\n",
      "['TS_mat_plot', 'TS_plot', '__builtins__', '__cached__', '__doc__', '__file__', '__loader__', '__name__', '__package__', '__path__', '__spec__', 'cross_plot', 'pair_plot', 'plot_HDBSCAN_outliers', 'plot_hist', 'plot_phase', 'plot_ra_offsets', 'plot_ra_vel', 'swath_profiler']\n",
      "['__builtins__', '__cached__', '__doc__', '__file__', '__loader__', '__name__', '__package__', '__path__', '__spec__', 'leastsquare_ts', 'read_hdf5_seq', 'ts_stack', 'write_hdf5_seq']\n",
      "None\n"
     ]
    }
   ],
   "source": [
    "# from SPOTS_main import Post_processing\n",
    "# from SPOTS_main import plot\n",
    "# from SPOTS_main import TS_processing\n",
    "\n",
    "\n",
    "import SPOTSAR_main as sm\n",
    "\n",
    "sm.Post_processing.read_lat_lon()\n",
    "print(dir(sm.plot))\n",
    "print(dir(sm.TS_processing))\n"
   ]
  }
 ],
 "metadata": {
  "kernelspec": {
   "display_name": "base",
   "language": "python",
   "name": "python3"
  },
  "language_info": {
   "codemirror_mode": {
    "name": "ipython",
    "version": 3
   },
   "file_extension": ".py",
   "mimetype": "text/x-python",
   "name": "python",
   "nbconvert_exporter": "python",
   "pygments_lexer": "ipython3",
   "version": "3.8.16"
  },
  "orig_nbformat": 4
 },
 "nbformat": 4,
 "nbformat_minor": 2
}
