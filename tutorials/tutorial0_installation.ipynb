{
 "cells": [
  {
   "cell_type": "markdown",
   "metadata": {},
   "source": [
    "# Tutorial 0: Installation\n",
    "\n",
    "Installation of the SPOTSAR package involves the following steps:\n",
    "\n",
    "0. Copying the repository\n",
    "1. Creating a python environment.\n",
    "2. Installing dependencies from PhD_env.yml\n",
    "3. Test if installation works succesfully by running test_env.py\n",
    "\n",
    "\n",
    "### Copying the repository\n",
    "\n",
    "Copy the repository from github into your project folder\n"
   ]
  },
  {
   "cell_type": "markdown",
   "metadata": {},
   "source": [
    "### Step 1: Creating a python environment\n",
    "\n",
    "To create a python environment we recommend you use anaconda (conda) to manage your packages.\n",
    "\n",
    "Please run:\n",
    " `conda create --name SPOTSAR --file PhD_env.yml` \n",
    "in the terminal.\n",
    "\n",
    "This should also install all the required dependencies. This can take a long time (several minutes) \n"
   ]
  },
  {
   "cell_type": "markdown",
   "metadata": {},
   "source": [
    "### Step 2: updating the environment with the PhD_env.yml file\n",
    "If the previous line did not work you can try importing the dependencies from the PhD_env.yml after creating the environment\n",
    "please run:\n",
    "\n",
    "`conda create --name SPOTSAR python=3.8`\n",
    "\n",
    "`conda activate SPOTSAR`\n",
    "\n",
    "`conda env update --prefix ./env --file PhD_env.yml`\n",
    "\n"
   ]
  },
  {
   "cell_type": "markdown",
   "metadata": {},
   "source": [
    "### Step 3: test if dependencies loaded correctly.\n",
    "\n",
    "To test if the dependencies loaded correctly please run:\n",
    "`python3 -m test_env`\n",
    "in the folder that contains test_env.py"
   ]
  }
 ],
 "metadata": {
  "language_info": {
   "name": "python"
  },
  "orig_nbformat": 4
 },
 "nbformat": 4,
 "nbformat_minor": 2
}
