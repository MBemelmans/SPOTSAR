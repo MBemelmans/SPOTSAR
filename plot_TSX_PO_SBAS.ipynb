{
 "cells": [
  {
   "cell_type": "code",
   "execution_count": 75,
   "metadata": {},
   "outputs": [
    {
     "name": "stdout",
     "output_type": "stream",
     "text": [
      "           0      1      2      3      4      5      6      7      8\n",
      "0        256    144 -0.037 -1.130  0.003  0.004  0.356 -0.018 -0.191\n",
      "1        272    144 -0.217  0.548  0.003  0.004  0.369 -0.100  0.091\n",
      "2        288    144 -0.326  1.173  0.003  0.004  0.361 -0.150  0.196\n",
      "3        304    144 -0.334  1.498  0.003  0.004  0.317 -0.153  0.251\n",
      "4        320    144 -0.328  1.781  0.003  0.004  0.337 -0.151  0.299\n",
      "...      ...    ...    ...    ...    ...    ...    ...    ...    ...\n",
      "149878  7776  17664 -0.044  0.403  0.003 -0.002  0.275 -0.021  0.068\n",
      "149879  7792  17664 -0.018  0.330  0.003 -0.002  0.290 -0.010  0.056\n",
      "149880  7808  17664 -0.007  1.273  0.003 -0.003  0.285 -0.004  0.214\n",
      "149881  7824  17664 -0.008  0.415  0.003 -0.003  0.287 -0.005  0.070\n",
      "149882  7840  17664 -0.091  0.477  0.003 -0.003  0.292 -0.042  0.081\n",
      "\n",
      "[149883 rows x 9 columns]\n",
      "(18158, 7938)\n"
     ]
    }
   ],
   "source": [
    "## plot TSX_staring 134 pixel offsets from 2023\n",
    "\n",
    "import pandas as pd\n",
    "import numpy as np\n",
    "import matplotlib.pyplot as plt\n",
    "from cmcrameri import cm # for scientific colourmaps\n",
    "import matplotlib.colors as mcolors\n",
    "\n",
    "filename = 'x20230426_x20230507_disp_100_268.txt'\n",
    "filedir = '/Users/markbemelmans/Documents/PhD/projects/Merapi2021/TSX/staring_134/disp_txt_2023/'\n",
    "filepath = filedir + filename\n",
    "\n",
    "df = pd.read_csv(filepath,sep = '\\s+',header=None)\n",
    "print(df)\n",
    "\n",
    "\n",
    "true_sar = np.fromfile('/Users/markbemelmans/Documents/PhD/projects/Merapi2021/TSX/staring_134/disp_txt_2023/x20230426_full.rmli', dtype='>f', count=-1)\n",
    "width = 7938\n",
    "lines = int(true_sar.shape[0]/width)\n",
    "# region = [1000,5500,5000,15000]\n",
    "region = [0,width,0,lines]\n",
    "true_sar = np.reshape(true_sar,[lines,width])[region[2]:region[3],region[0]:region[1]]\n",
    "# true_sar = np.reshape(true_sar,[lines,width])\n",
    "print(np.shape(true_sar))"
   ]
  },
  {
   "cell_type": "code",
   "execution_count": 76,
   "metadata": {},
   "outputs": [
    {
     "name": "stderr",
     "output_type": "stream",
     "text": [
      "1   HIToolbox                           0x00007ff80a705726 _ZN15MenuBarInstance22EnsureAutoShowObserverEv + 102\n",
      "2   HIToolbox                           0x00007ff80a7052b8 _ZN15MenuBarInstance14EnableAutoShowEv + 52\n",
      "3   HIToolbox                           0x00007ff80a674cd7 _ZN15MenuBarInstance21UpdateAggregateUIModeE21MenuBarAnimationStylehhh + 1113\n",
      "4   HIToolbox                           0x00007ff80a705173 _ZN15MenuBarInstance19SetFullScreenUIModeEjj + 175\n",
      "5   AppKit                              0x00007ff8041d2287 -[NSApplication _setPresentationOptions:instance:flags:] + 1145\n",
      "6   AppKit                              0x00007ff804027055 -[NSApplication _updateFullScreenPresentationOptionsForInstance:] + 582\n",
      "7   AppKit                              0x00007ff804a757f0 -[_NSFullScreenSpace(PresentationInstance) activateFullScreenPresentationOptions] + 207\n",
      "8   AppKit                              0x00007ff8048c85d8 -[_NSEnterFullScreenTransitionController _doSucceededToEnterFullScreen] + 721\n",
      "9   AppKit                              0x00007ff8048c90e7 __65-[_NSEnterFullScreenTransitionController _performEnterFullScreen]_block_invoke + 451\n",
      "10  AppKit                              0x00007ff80427563e __NSFullScreenDockConnectionSendEnterForSpace_block_invoke + 135\n",
      "11  libxpc.dylib                        0x00007ff8009d921f _xpc_connection_reply_callout + 36\n",
      "12  libxpc.dylib                        0x00007ff8009d91a7 _xpc_connection_call_reply_async + 69\n",
      "13  libdispatch.dylib                   0x00007ff800aebaaa _dispatch_client_callout3 + 8\n",
      "14  libdispatch.dylib                   0x00007ff800b06c6f _dispatch_mach_msg_async_reply_invoke + 387\n",
      "15  libdispatch.dylib                   0x00007ff800af86ee _dispatch_main_queue_drain + 749\n",
      "16  libdispatch.dylib                   0x00007ff800af83f3 _dispatch_main_queue_callback_4CF + 31\n",
      "17  CoreFoundation                      0x00007ff800d855f0 __CFRUNLOOP_IS_SERVICING_THE_MAIN_DISPATCH_QUEUE__ + 9\n",
      "18  CoreFoundation                      0x00007ff800d45b70 __CFRunLoopRun + 2454\n",
      "19  CoreFoundation                      0x00007ff800d44b60 CFRunLoopRunSpecific + 560\n",
      "20  HIToolbox                           0x00007ff80a692766 RunCurrentEventLoopInMode + 292\n",
      "21  HIToolbox                           0x00007ff80a692576 ReceiveNextEventCommon + 679\n",
      "22  HIToolbox                           0x00007ff80a6922b3 _BlockUntilNextEventMatchingListInModeWithFilter + 70\n",
      "23  AppKit                              0x00007ff803e952f3 _DPSNextEvent + 909\n",
      "24  AppKit                              0x00007ff803e94174 -[NSApplication(NSEvent) _nextEventMatchingEventMask:untilDate:inMode:dequeue:] + 1219\n",
      "25  AppKit                              0x00007ff803e867b7 -[NSApplication run] + 586\n",
      "26  libffi.8.dylib                      0x0000000102c50a22 ffi_call_unix64 + 82\n",
      "27  ???                                 0x00007ff7bd776aa0 0x0 + 140702012369568\n",
      "1   HIToolbox                           0x00007ff80a6920c2 _ZN15MenuBarInstance22RemoveAutoShowObserverEv + 30\n",
      "2   HIToolbox                           0x00007ff80a705f72 _ZN15MenuBarInstance15DisableAutoShowEv + 24\n",
      "3   HIToolbox                           0x00007ff80a706077 _ZN15MenuBarInstanceD2Ev + 113\n",
      "4   HIToolbox                           0x00007ff80a705ebb _ZN15MenuBarInstance7ReleaseEv + 35\n",
      "5   AppKit                              0x00007ff80460d9dd -[NSHIPresentationInstance discard] + 277\n",
      "6   AppKit                              0x00007ff804a75702 -[_NSFullScreenSpace(PresentationInstance) discardPresentationInstance] + 36\n",
      "7   AppKit                              0x00007ff804a75777 -[_NSFullScreenSpace(PresentationInstance) activateFullScreenPresentationOptions] + 86\n",
      "8   AppKit                              0x00007ff80488db41 -[_NSExitFullScreenTransitionController _doSucceededToExitFullScreen] + 38\n",
      "9   AppKit                              0x00007ff80488e6a3 __63-[_NSExitFullScreenTransitionController _performExitFullScreen]_block_invoke + 249\n",
      "10  libxpc.dylib                        0x00007ff8009d921f _xpc_connection_reply_callout + 36\n",
      "11  libxpc.dylib                        0x00007ff8009d91a7 _xpc_connection_call_reply_async + 69\n",
      "12  libdispatch.dylib                   0x00007ff800aebaaa _dispatch_client_callout3 + 8\n",
      "13  libdispatch.dylib                   0x00007ff800b06c6f _dispatch_mach_msg_async_reply_invoke + 387\n",
      "14  libdispatch.dylib                   0x00007ff800af86ee _dispatch_main_queue_drain + 749\n",
      "15  libdispatch.dylib                   0x00007ff800af83f3 _dispatch_main_queue_callback_4CF + 31\n",
      "16  CoreFoundation                      0x00007ff800d855f0 __CFRUNLOOP_IS_SERVICING_THE_MAIN_DISPATCH_QUEUE__ + 9\n",
      "17  CoreFoundation                      0x00007ff800d45b70 __CFRunLoopRun + 2454\n",
      "18  CoreFoundation                      0x00007ff800d44b60 CFRunLoopRunSpecific + 560\n",
      "19  HIToolbox                           0x00007ff80a692766 RunCurrentEventLoopInMode + 292\n",
      "20  HIToolbox                           0x00007ff80a692576 ReceiveNextEventCommon + 679\n",
      "21  HIToolbox                           0x00007ff80a6922b3 _BlockUntilNextEventMatchingListInModeWithFilter + 70\n",
      "22  AppKit                              0x00007ff803e952f3 _DPSNextEvent + 909\n",
      "23  AppKit                              0x00007ff803e94174 -[NSApplication(NSEvent) _nextEventMatchingEventMask:untilDate:inMode:dequeue:] + 1219\n",
      "24  AppKit                              0x00007ff803e867b7 -[NSApplication run] + 586\n",
      "25  libffi.8.dylib                      0x0000000102c50a22 ffi_call_unix64 + 82\n",
      "26  ???                                 0x00007ff7bd776aa0 0x0 + 140702012369568\n",
      "2023-09-09 15:51:36.700 python[35851:568161] IMKClient Stall detected, *please Report* your user scenario attaching a spindump (or sysdiagnose) that captures the problem - (imkxpc_bundleIdentifierWithReply:) block performed very slowly (21.46 secs).\n"
     ]
    },
    {
     "ename": "",
     "evalue": "",
     "output_type": "error",
     "traceback": [
      "\u001b[1;31mThe Kernel crashed while executing code in the the current cell or a previous cell. Please review the code in the cell(s) to identify a possible cause of the failure. Click <a href='https://aka.ms/vscodeJupyterKernelCrash'>here</a> for more info. View Jupyter <a href='command:jupyter.viewOutput'>log</a> for further details."
     ]
    }
   ],
   "source": [
    "%matplotlib osx\n",
    "s = 3\n",
    "vmax = 0.3 \n",
    "expo = 0.35\n",
    "amp_vmax = 60\n",
    "aspect = 1/3\n",
    "alpha = 0.3\n",
    "fig, ax = plt.subplots(1,3)\n",
    "ax[0].imshow(true_sar**expo,cmap='Greys_r',vmax=amp_vmax)#,norm=mcolors.LogNorm(vmin=1, vmax=1e7))\n",
    "ax[1].imshow(true_sar**expo,cmap='Greys_r',vmax=amp_vmax)#,norm=mcolors.LogNorm(vmin=1, vmax=1e7))\n",
    "ax[2].imshow(true_sar**expo,cmap='Greys_r',vmax=amp_vmax)#,norm=mcolors.LogNorm(vmin=1, vmax=1e7))\n",
    "\n",
    "ax[1].scatter(df.iloc[:,0]-region[0],df.iloc[:,1]-region[2],s=s,c=df[7],vmin=-vmax,vmax=vmax,cmap=cm.vik,alpha=alpha)\n",
    "ax[2].scatter(df.iloc[:,0]-region[0],df.iloc[:,1]-region[2],s=s,c=df[8],vmin=-vmax,vmax=vmax,cmap=cm.vik,alpha=alpha)\n",
    "ax[1].set_xlim(ax[0].get_xlim())\n",
    "ax[1].set_ylim(ax[0].get_ylim())\n",
    "ax[2].set_xlim(ax[0].get_xlim())\n",
    "ax[2].set_ylim(ax[0].get_ylim())\n",
    "ax[0].set_aspect(aspect)\n",
    "ax[1].set_aspect(aspect)\n",
    "ax[2].set_aspect(aspect)\n"
   ]
  }
 ],
 "metadata": {
  "kernelspec": {
   "display_name": "Python 3",
   "language": "python",
   "name": "python3"
  },
  "language_info": {
   "codemirror_mode": {
    "name": "ipython",
    "version": 3
   },
   "file_extension": ".py",
   "mimetype": "text/x-python",
   "name": "python",
   "nbconvert_exporter": "python",
   "pygments_lexer": "ipython3",
   "version": "3.8.16"
  },
  "orig_nbformat": 4
 },
 "nbformat": 4,
 "nbformat_minor": 2
}
