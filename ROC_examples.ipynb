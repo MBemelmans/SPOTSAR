{
 "cells": [
  {
   "cell_type": "code",
   "execution_count": 23,
   "metadata": {},
   "outputs": [
    {
     "name": "stderr",
     "output_type": "stream",
     "text": [
      "2023-11-28 10:46:14.330 python[89307:398923] +[CATransaction synchronize] called within transaction\n",
      "2023-11-28 10:47:35.560 python[89307:398923] +[CATransaction synchronize] called within transaction\n"
     ]
    }
   ],
   "source": [
    "%matplotlib osx\n",
    "# reciever-operator curve example plot\n",
    "\n",
    "import numpy as np\n",
    "import matplotlib.pyplot as plt\n",
    "import matplotlib\n",
    "from sklearn.metrics import roc_curve, auc\n",
    "matplotlib.rcParams.update({'font.size': 18})\n",
    "\n",
    "# Function to generate example data for different scenarios\n",
    "def generate_example_data(n_samples, scenario='random'):\n",
    "    # np.random.seed(42)\n",
    "    if scenario == 'random':\n",
    "        # Randomly generated predictions\n",
    "        y_true = np.random.randint(2, size=n_samples)\n",
    "        y_scores = y_true + np.random.normal(scale=2, size=n_samples)\n",
    "    elif scenario == 'good_performance':\n",
    "        # Good performance with some noise\n",
    "        y_true = np.random.randint(2, size=n_samples)\n",
    "        y_scores = y_true + np.random.normal(scale=0.6, size=n_samples)\n",
    "    elif scenario == 'perfect_performance':\n",
    "        # Perfect performance\n",
    "        y_true = np.random.randint(2, size=n_samples)\n",
    "        y_scores = y_true\n",
    "    else:\n",
    "        raise ValueError(\"Invalid scenario\")\n",
    "\n",
    "    return y_true, y_scores\n",
    "\n",
    "# Function to plot ROC curve\n",
    "def plot_roc_curve(y_true, y_scores, label):\n",
    "    fpr, tpr, _ = roc_curve(y_true, y_scores)\n",
    "    roc_auc = auc(fpr, tpr)\n",
    "\n",
    "    plt.plot(fpr, tpr, label=f'{label} (AUC = {roc_auc:.2f})')\n",
    "\n",
    "# Set the number of samples\n",
    "n_samples = 1000\n",
    "\n",
    "# Generate example data for different scenarios\n",
    "y_true_random, y_scores_random = generate_example_data(n_samples, scenario='random')\n",
    "y_true_good, y_scores_good = generate_example_data(n_samples, scenario='good_performance')\n",
    "y_true_perfect, y_scores_perfect = generate_example_data(n_samples, scenario='perfect_performance')\n",
    "\n",
    "# Plot ROC curves\n",
    "plt.figure(figsize=(8, 8))\n",
    "plot_roc_curve(y_true_perfect, y_scores_perfect, 'Perfect Classifier')\n",
    "plot_roc_curve(y_true_random, y_scores_random, 'Method A')\n",
    "plot_roc_curve(y_true_good, y_scores_good, 'Method B')\n",
    "\n",
    "\n",
    "# Plot the diagonal line (random classifier)\n",
    "plt.plot([0, 1], [0, 1], linestyle='--', color='gray', label='Random Classifier (AUC = 0.50)')\n",
    "\n",
    "# Set plot labels and title\n",
    "plt.xlabel('False Positive Rate')\n",
    "plt.ylabel('True Positive Rate')\n",
    "# plt.title('Receiver Operating Characteristic (ROC) Curve')\n",
    "plt.gca().set_aspect('equal', adjustable='box')\n",
    "plt.legend()\n",
    "\n",
    "# Show the plot\n",
    "plt.show()\n"
   ]
  }
 ],
 "metadata": {
  "kernelspec": {
   "display_name": "Python 3",
   "language": "python",
   "name": "python3"
  },
  "language_info": {
   "codemirror_mode": {
    "name": "ipython",
    "version": 3
   },
   "file_extension": ".py",
   "mimetype": "text/x-python",
   "name": "python",
   "nbconvert_exporter": "python",
   "pygments_lexer": "ipython3",
   "version": "3.8.16"
  }
 },
 "nbformat": 4,
 "nbformat_minor": 2
}
