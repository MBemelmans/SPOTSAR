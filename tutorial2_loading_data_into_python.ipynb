{
 "cells": [
  {
   "cell_type": "markdown",
   "metadata": {},
   "source": [
    "# Tutorial 2 Loading data from GAMMA into python\n",
    "\n",
    "This tutorial covers the following topics:\n",
    "\n",
    "1. loading dependencies\n",
    "2. defining constants and other user input parameters\n",
    "3. grouping data into multi-kernel objects (basically a list of single kernel objects that contain the offset tracking data for each window size or kernel)\n",
    "4. basic visualisation\n",
    "\n"
   ]
  },
  {
   "cell_type": "code",
   "execution_count": 1,
   "metadata": {},
   "outputs": [],
   "source": [
    "# loading dependencies\n",
    "\n",
    "# this is a big list of dependencies that need to be loaded for the rest of the code to work.\n",
    "\n",
    "import numpy as np # numerical calculation \n",
    "import pandas as pd # dataset manipulation\n",
    "import numba # optimization with jit compiler\n",
    "from numba import vectorize \n",
    "\n",
    "import glob # for file search\n",
    "import copy # for deep copying data\n",
    "import os # operating system stuff\n",
    "import re # regex\n",
    "import fastparquet # fast read/write for large data structures\n",
    "import sklearn.preprocessing as pre # for data normalisation\n",
    "from sklearn.metrics import pairwise_distances\n",
    "\n",
    "import geopandas as gpd # geographical dataset manipulation\n",
    "import rasterio as rio # raster read/write\n",
    "import rasterio.mask\n",
    "from rasterio.plot import plotting_extent\n",
    "from shapely.geometry import Polygon # shapefile/ geometry manipulation\n",
    "from shapely.geometry.point import Point\n",
    "import pyproj # geographical coordinate translation\n",
    "from pyproj import CRS\n",
    "from inpoly import inpoly2 # for fast inpolygon checks\n",
    "import utm # utm calculator\n",
    "\n",
    "import matplotlib.pyplot as plt # visualization\n",
    "import matplotlib.dates as mdates\n",
    "from matplotlib import cm as mpl_cm\n",
    "from matplotlib import colors as mcolors \n",
    "\n",
    "from mpl_toolkits.axes_grid1 import make_axes_locatable # for colorbar scaling\n",
    "from mpl_toolkits.axes_grid1 import ImageGrid\n",
    "from matplotlib_scalebar.scalebar import ScaleBar\n",
    "from matplotlib.gridspec import GridSpec\n",
    "from matplotlib.ticker import FormatStrFormatter\n",
    "\n",
    "import seaborn as sns # visualization\n",
    "from matplotlib import rc_file_defaults # restore defaults at start of script from seaborn to matplotlib\n",
    "rc_file_defaults()\n",
    "# sns.set(style=None, color_codes=True)\n",
    "\n",
    "\n",
    "import datetime # time and date parser\n",
    "\n",
    "import configparser # read parameters from text file\n",
    "\n",
    "from cmcrameri import cm # for scientific colourmaps\n",
    "\n",
    "###########################\n",
    "# import main local package\n",
    "\n",
    "import SPOTSAR_main as sm\n"
   ]
  },
  {
   "cell_type": "markdown",
   "metadata": {},
   "source": [
    "## user inputs\n",
    "\n",
    "We need to define user inputs like file names, image width, plotting latitude and longitude limits"
   ]
  },
  {
   "cell_type": "code",
   "execution_count": 2,
   "metadata": {},
   "outputs": [],
   "source": [
    "################ Define user INPUTS #######################\n",
    "######## please edit the values of this block only ########\n",
    "###########################################################\n",
    "\n",
    "# define hillshade file\n",
    "HS_FILE = './test_data/DEM/TDX_Merapi_WGS84_HS.tif'\n",
    "\n",
    "# define lon and lat files\n",
    "LON_FILE = './test_data/CSK_dsc/geo2/20200910.lon'\n",
    "LAT_FILE = './test_data/CSK_dsc/geo2/20200910.lat'\n",
    "\n",
    "# define parameter text file\n",
    "PARAM_FILE = './test_data/CSK_dsc/params.txt'\n",
    "\n",
    "# define map region of interest\n",
    "lon_lims = [110.425, 110.45]\n",
    "lat_lims = [-7.555, -7.535]\n",
    "\n",
    "# define colour range {min max} (min = -max)\n",
    "vmax = 3 # range of colourscale in meters\n",
    "\n",
    "# define file names for data, lon and lat\n",
    "DIRECTORY_PATH = \"./test_data/CSK_dsc/DISP_txt2/\"\n",
    "# define path to ccp and ccs files\n",
    "DIRECTORY_PATH_CCS = \"./test_data/CSK_dsc/CCS2/\"\n",
    "\n",
    "# Set the regular expression pattern to match the file names\n",
    "PATTERN1 = r\"^c20200927_c20201113_disp_[0-9]+_[0-9]+\\.txt$\"\n",
    "\n",
    "# Set the regular expression pattern to match the ccs file names\n",
    "PATTERN_CCS1 = r\"^c20200927_c20201113_ccs_[0-9]+_[0-9]+$\"\n",
    "\n",
    "# open hill shade file with rasterio\n",
    "DEM_HS = rio.open(HS_FILE)\n",
    "SHADING = DEM_HS.read(1,masked=True) # rasterio bands are indexed from 1\n",
    "\n",
    "# extract DEM extent\n",
    "DEM_EXTENT=[DEM_HS.bounds.left,DEM_HS.bounds.right,DEM_HS.bounds.bottom,DEM_HS.bounds.top]\n",
    "\n",
    "# read parameters from text file\n",
    "config = configparser.ConfigParser()\n",
    "config.read(PARAM_FILE)\n",
    "WIDTH = int(config.get('params', 'width'))\n",
    "LINES = int(config.get('params', 'lines'))\n",
    "WIDTH_CCS = int(config.get('params', 'width_ccs'))\n",
    "LINES_CCS = int(config.get('params', 'lines_ccs'))\n",
    "R_START = int(config.get('params', 'r_start'))\n",
    "A_START = int(config.get('params', 'a_start'))\n",
    "R_STEP = int(config.get('params', 'r_step'))\n",
    "A_STEP = int(config.get('params', 'a_step'))\n",
    "HEADING = float(config.get('params', 'heading'))\n",
    "MEAN_INC = float(config.get('params', 'mean_inc'))"
   ]
  },
  {
   "cell_type": "markdown",
   "metadata": {},
   "source": [
    "## the files first need to be sorted from small to largest window size."
   ]
  },
  {
   "cell_type": "code",
   "execution_count": 3,
   "metadata": {},
   "outputs": [
    {
     "name": "stdout",
     "output_type": "stream",
     "text": [
      "['c20200927_c20201113_disp_58_28.txt', 'c20200927_c20201113_disp_140_68.txt', 'c20200927_c20201113_disp_224_108.txt', 'c20200927_c20201113_disp_306_148.txt', 'c20200927_c20201113_disp_388_188.txt']\n",
      "['c20200927_c20201113_ccs_58_28', 'c20200927_c20201113_ccs_140_68', 'c20200927_c20201113_ccs_224_108', 'c20200927_c20201113_ccs_306_148', 'c20200927_c20201113_ccs_388_188']\n"
     ]
    }
   ],
   "source": [
    "#\n",
    "# reorder file using Post_processing.reorder_files\n",
    "matching_files1 = sm.Post_processing.reorder_files(DIRECTORY_PATH,PATTERN1,0)\n",
    "matching_files_ccs1 = sm.Post_processing.reorder_files(DIRECTORY_PATH_CCS,PATTERN_CCS1,0)\n",
    "\n",
    "# test if file ordering has worked\n",
    "print(matching_files1)\n",
    "print(matching_files_ccs1)\n"
   ]
  },
  {
   "cell_type": "code",
   "execution_count": 4,
   "metadata": {},
   "outputs": [],
   "source": [
    "\n",
    "# load data from files into class multi-kernel (a collection of offset estimates of the same dates with different window sizes)\n",
    "datastack = sm.Post_processing.MultiKernel(DIRECTORY_PATH,\n",
    "                                            matching_files1,\n",
    "                                            DIRECTORY_PATH_CCS,\n",
    "                                            matching_files_ccs1,\n",
    "                                            LAT_FILE,\n",
    "                                            LON_FILE,\n",
    "                                            HEADING,\n",
    "                                            MEAN_INC,\n",
    "                                            LINES_CCS,\n",
    "                                            WIDTH_CCS)\n",
    "# We need to assign some data not stored in the disp.txt files.\n",
    "datastack.get_params_from_file_name()\n",
    "datastack.get_latlon_from_file(WIDTH)\n",
    "datastack.add_lat_lon_to_data(R_START,A_START)\n",
    "datastack.crop_stack_ccs(R_STEP,A_STEP)\n",
    "# the object datastack now has several attributes associated with the whole dataset (e.g., date1, date2, heading)\n",
    "# Next we add all the offset data (disp.txt) to the stack\n",
    "stacked_data = datastack.assign_data_to_stack(R_STEP,A_STEP)\n",
    "# The attribute 'Stack' we find a list of single-kernel objects which contain the actual offset data, ccp and ccs data and the coordinates.\n",
    "\n"
   ]
  },
  {
   "cell_type": "markdown",
   "metadata": {},
   "source": [
    "### basic visualisation\n",
    "\n",
    "next we try some basic visualisation to see if it all worked. "
   ]
  },
  {
   "cell_type": "code",
   "execution_count": null,
   "metadata": {},
   "outputs": [],
   "source": [
    "%matplotlib osx\n",
    "sm.plot.plot_vec_attr(datastack.Stack[2],'Phase',2,50,0.005,[0,360],5,SHADING,DEM_EXTENT)"
   ]
  }
 ],
 "metadata": {
  "kernelspec": {
   "display_name": "Python 3",
   "language": "python",
   "name": "python3"
  },
  "language_info": {
   "codemirror_mode": {
    "name": "ipython",
    "version": 3
   },
   "file_extension": ".py",
   "mimetype": "text/x-python",
   "name": "python",
   "nbconvert_exporter": "python",
   "pygments_lexer": "ipython3",
   "version": "3.8.16"
  },
  "orig_nbformat": 4
 },
 "nbformat": 4,
 "nbformat_minor": 2
}
