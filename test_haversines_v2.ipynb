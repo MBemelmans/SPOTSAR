{
 "cells": [
  {
   "cell_type": "code",
   "execution_count": 191,
   "metadata": {},
   "outputs": [
    {
     "name": "stdout",
     "output_type": "stream",
     "text": [
      "[[-82.92889435  47.38642061]\n",
      " [ 55.76141368 -72.6758314 ]\n",
      " [  8.02975854 -33.7407885 ]\n",
      " ...\n",
      " [-57.08506214 -15.70052389]\n",
      " [142.52639828 -80.64144282]\n",
      " [-98.21787179 -55.59724143]]\n",
      "[[-138.9828529     3.51510725]]\n"
     ]
    }
   ],
   "source": [
    "import numpy as np\n",
    "import haversine as hvs\n",
    "from sklearn.metrics.pairwise import haversine_distances\n",
    "from math import radians, sin, cos, sqrt, atan2\n",
    "import time\n",
    "\n",
    "def optimized_haversine_distances(lonlat1, lonlat2):\n",
    "    \"\"\"\n",
    "    Calculate the haversine distances between two sets of longitude-latitude coordinates.\n",
    "    lonlat1: array-like, shape (n, 2)\n",
    "        Array of longitude-latitude coordinates for the first set of points.\n",
    "    lonlat2: array-like, shape (m, 2)\n",
    "        Array of longitude-latitude coordinates for the second set of points.\n",
    "    Returns:\n",
    "    distances: ndarray, shape (n, m)\n",
    "        Array of haversine distances between each pair of points.\n",
    "    \"\"\"\n",
    "    lon1, lat1 = lonlat1[:, 0], lonlat1[:, 1]\n",
    "    lon2, lat2 = lonlat2[:, 0], lonlat2[:, 1]\n",
    "\n",
    "    dlon = lon2 - lon1\n",
    "    dlat = lat2 - lat1\n",
    "\n",
    "    a = np.sin((dlat) / 2) ** 2 + np.cos(lon1) * np.cos(lon2) * np.sin((dlon) / 2) ** 2\n",
    "    distances = 2 * np.arcsin(np.sqrt(a))\n",
    "\n",
    "    return distances\n",
    "\n",
    "\n",
    "def slow_haversine_distances(x, y):\n",
    "        diff_lat = y[:,0] - x[0]\n",
    "        diff_lon = y[:,1] - x[1]\n",
    "        a = np.sin(diff_lat / 2) ** 2 + (\n",
    "            np.cos(x[0]) * np.cos(y[:,0]) * np.sin(diff_lon / 2) ** 2\n",
    "        )\n",
    "        c = 2 * np.arcsin(np.sqrt(a))\n",
    "        return c\n",
    "\n",
    "# Generate random longitude-latitude coordinates\n",
    "n = 10_000\n",
    "m = 1\n",
    "lonlat1 = np.random.uniform(low=-180, high=180, size=(n, 2))\n",
    "lonlat2 = np.random.uniform(low=-180, high=180, size=(m, 2))\n",
    "# lonlat1[:,0] +=180\n",
    "# lonlat2[:,0] +=180\n",
    "lonlat1[:,1] /= 2\n",
    "lonlat2[:,1] /= 2\n",
    "\n",
    "# lonlat1 = np.array([[0,10],\n",
    "#            [0,20],\n",
    "#            [0,30],\n",
    "#            [0,40],\n",
    "#            [0,50],\n",
    "#            [10,0],\n",
    "#            [20,0],\n",
    "#            [30,0],\n",
    "#            [40,0],\n",
    "#            [50,0]])\n",
    "# lonlat2 = np.array([0,0]).reshape(1,-1)\n",
    "\n",
    "print(lonlat1)\n",
    "print(lonlat2)\n"
   ]
  },
  {
   "cell_type": "code",
   "execution_count": 192,
   "metadata": {},
   "outputs": [
    {
     "name": "stdout",
     "output_type": "stream",
     "text": [
      "1.44 ms ± 318 µs per loop (mean ± std. dev. of 7 runs, 100 loops each)\n"
     ]
    }
   ],
   "source": [
    "%%timeit\n",
    "# Measure execution time for scikit-learn haversine_distances\n",
    "# start_time = time.time()\n",
    "dists1 = haversine_distances(np.radians(lonlat1), np.radians(lonlat2))\n",
    "# sklearn_time = time.time() - start_time\n"
   ]
  },
  {
   "cell_type": "code",
   "execution_count": 193,
   "metadata": {},
   "outputs": [
    {
     "name": "stderr",
     "output_type": "stream",
     "text": [
      "/var/folders/m9/32v45xkn4zx6js6htb1prb2r0000gn/T/ipykernel_9906/836437542.py:25: RuntimeWarning: invalid value encountered in sqrt\n",
      "  distances = 2 * np.arcsin(np.sqrt(a))\n"
     ]
    },
    {
     "name": "stdout",
     "output_type": "stream",
     "text": [
      "1.05 ms ± 273 µs per loop (mean ± std. dev. of 7 runs, 1,000 loops each)\n"
     ]
    }
   ],
   "source": [
    "%%timeit\n",
    "# Measure execution time for optimized haversine_distances\n",
    "# start_time = time.time()\n",
    "dists2 = optimized_haversine_distances(np.radians(lonlat1), np.radians(lonlat2))\n",
    "# optimized_time = time.time() - start_time\n",
    "\n",
    "# print(f\"Execution time for scikit-learn haversine_distances: {sklearn_time:.6f} seconds\")\n",
    "# print(f\"Execution time for optimized haversine_distances: {optimized_time:.6f} seconds\")\n"
   ]
  },
  {
   "cell_type": "code",
   "execution_count": 194,
   "metadata": {},
   "outputs": [
    {
     "name": "stdout",
     "output_type": "stream",
     "text": [
      "[[-82.92889435  47.38642061]\n",
      " [ 55.76141368 -72.6758314 ]\n",
      " [  8.02975854 -33.7407885 ]\n",
      " ...\n",
      " [-57.08506214 -15.70052389]\n",
      " [142.52639828 -80.64144282]\n",
      " [-98.21787179 -55.59724143]]\n",
      "[[-138.9828529     3.51510725]]\n"
     ]
    }
   ],
   "source": [
    "print(lonlat1)\n",
    "print(lonlat2)\n",
    "latlon1 = lonlat1[:,::-1]\n",
    "latlon2 = lonlat2[:,::-1]\n"
   ]
  },
  {
   "cell_type": "code",
   "execution_count": 195,
   "metadata": {},
   "outputs": [
    {
     "name": "stdout",
     "output_type": "stream",
     "text": [
      "1.23 ms ± 280 µs per loop (mean ± std. dev. of 7 runs, 1,000 loops each)\n"
     ]
    }
   ],
   "source": [
    "%%timeit\n",
    "dist3 = hvs.haversine_vector(latlon2,latlon1,comb=True,unit='rad')"
   ]
  },
  {
   "cell_type": "code",
   "execution_count": 196,
   "metadata": {},
   "outputs": [
    {
     "name": "stdout",
     "output_type": "stream",
     "text": [
      "341 ms ± 155 ms per loop (mean ± std. dev. of 7 runs, 1 loop each)\n"
     ]
    }
   ],
   "source": [
    "%%timeit\n",
    "# print(latlon2)\n",
    "# print(latlon1)\n",
    "dist4 = np.array([slow_haversine_distances(np.radians(x), np.radians(latlon2)) for x in latlon1])\n"
   ]
  },
  {
   "cell_type": "code",
   "execution_count": 199,
   "metadata": {},
   "outputs": [
    {
     "name": "stdout",
     "output_type": "stream",
     "text": [
      "1.19 ms ± 49 µs per loop (mean ± std. dev. of 7 runs, 1,000 loops each)\n"
     ]
    }
   ],
   "source": [
    "%%timeit\n",
    "dist5 = haversine_distances(np.radians(latlon1),np.radians(latlon2))\n",
    "# dist4 = slow_haversine_distances(latlon2,latlon1)"
   ]
  },
  {
   "cell_type": "code",
   "execution_count": 198,
   "metadata": {},
   "outputs": [
    {
     "name": "stdout",
     "output_type": "stream",
     "text": [
      "[[1.32023731]\n",
      " [1.80521732]\n",
      " [2.04822275]\n",
      " ...\n",
      " [2.52849498]\n",
      " [1.36302152]\n",
      " [2.01045912]]\n",
      "[       nan        nan 0.83456533 ...        nan 1.42586084 0.03494624]\n",
      "[[2.6383627 ]\n",
      " [1.63633826]\n",
      " [1.80885406]\n",
      " ...\n",
      " [1.20221296]\n",
      " [1.35306881]\n",
      " [0.44263782]]\n",
      "[[2.6383627 ]\n",
      " [1.63633826]\n",
      " [1.80885406]\n",
      " ...\n",
      " [1.20221296]\n",
      " [1.35306881]\n",
      " [0.44263782]]\n",
      "[[2.6383627 ]\n",
      " [1.63633826]\n",
      " [1.80885406]\n",
      " ...\n",
      " [1.20221296]\n",
      " [1.35306881]\n",
      " [0.44263782]]\n"
     ]
    }
   ],
   "source": [
    "# print(lonlat1)\n",
    "# print(lonlat2)\n",
    "# print(latlon1)\n",
    "# print(latlon2)\n",
    "print(dists1)\n",
    "print(dists2)\n",
    "print(dist3)\n",
    "print(dist4)\n",
    "print(dist5)"
   ]
  }
 ],
 "metadata": {
  "kernelspec": {
   "display_name": "Python 3",
   "language": "python",
   "name": "python3"
  },
  "language_info": {
   "codemirror_mode": {
    "name": "ipython",
    "version": 3
   },
   "file_extension": ".py",
   "mimetype": "text/x-python",
   "name": "python",
   "nbconvert_exporter": "python",
   "pygments_lexer": "ipython3",
   "version": "3.8.16"
  },
  "orig_nbformat": 4
 },
 "nbformat": 4,
 "nbformat_minor": 2
}
